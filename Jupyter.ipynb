{
 "cells": [
  {
   "cell_type": "markdown",
   "id": "36675108",
   "metadata": {},
   "source": [
    "Jupyter"
   ]
  },
  {
   "cell_type": "markdown",
   "id": "3cc242fe",
   "metadata": {},
   "source": [
    "Intrduction: Data Science is a multidisciplinary field that utilizes scientific methods, processes, algorithms, and systems to extract insights and knowledge from structured and unstructured data. It combines expertise from various domains, including statistics, computer science, and domain-specific knowledge."
   ]
  },
  {
   "cell_type": "markdown",
   "id": "69bc59c3",
   "metadata": {},
   "source": [
    "Data science languages:\n",
    "Python\n",
    "R\n",
    "SQL\n",
    "Scala\n",
    "Julia"
   ]
  },
  {
   "cell_type": "markdown",
   "id": "eb29b929",
   "metadata": {},
   "source": [
    "Libraries:\n",
    "Pandas\n",
    "NumPy\n",
    "Matplotlib\n",
    "Seaborn\n",
    "Scikit-learn\n",
    "TensorFlow\n",
    "PyTorch\n",
    "ggplot2\n",
    "dplyr\n",
    "tidyr\n",
    "caret"
   ]
  },
  {
   "cell_type": "markdown",
   "id": "1da9f4c9",
   "metadata": {},
   "source": [
    "### Data Science Tools\n",
    "\n",
    "| Category              | Tool                  | Description                                           |\n",
    "|-----------------------|-----------------------|-------------------------------------------------------|\n",
    "| **Programming Languages** | Python                | Versatile language with extensive data science libraries |\n",
    "|                        | R                     | Specialized for statistical analysis and visualization |\n",
    "|                        | SQL                   | Essential for database querying and management        |\n",
    "|                        | Julia                 | Known for speed in numerical and scientific computing  |\n",
    "|                        | Scala                 | Often used with Apache Spark for distributed computing  |\n",
    "| **Data Manipulation and Analysis** | Pandas            | Python library for data manipulation and analysis      |\n",
    "|                        | NumPy                 | Numerical computing library for arrays and matrices    |\n",
    "|                        | dplyr (R)             | R package for data manipulation and transformation    |\n",
    "|                        | DataFrames.jl (Julia)| Data manipulation in Julia                             |\n",
    "| **Visualization**     | Matplotlib (Python)   | Plotting and visualization library for Python           |\n",
    "|                        | ggplot2 (R)           | Data visualization package for R                        |\n",
    "|                        | Seaborn (Python)      | Statistical data visualization based on Matplotlib     |\n",
    "| **Machine Learning**   | Scikit-learn (Python) | Machine learning library for classification, regression, clustering, etc. |\n",
    "|                        | caret (R)             | R package for classification and regression training    |\n",
    "|                        | TensorFlow (Python)   | Open-source machine learning framework by Google        |\n",
    "|                        | PyTorch (Python)      | Deep learning library with dynamic computational graphs |\n",
    "|                        | MLJ (Julia)           | Machine learning framework for Julia                    |\n",
    "| **Big Data Processing** | Apache Spark (Scala)  | Fast and general-purpose cluster-computing system for big data processing |\n",
    "| **Database Interaction** | SQLAlchemy (Python)  | SQL toolkit and Object-Relational Mapping (ORM) for Python |\n",
    "|                        | pandasql (Python)     | Allows running SQL queries on Pandas DataFrames          |\n",
    "| **Notebook Environments** | Jupyter Notebook     | Interactive notebooks supporting code, text, and visualizations |\n",
    "|                        | RStudio               | Integrated development environment for R                |\n",
    "|                        | Google Colab          | Cloud-based Jupyter notebooks by Google                 |\n",
    "| **Version Control**    | Git                   | Distributed version control system                      |\n",
    "|                        | GitHub                | Web-based platform for version control and collaboration |\n",
    "|                        | GitLab                | Web-based platform for Git repositories management      |\n",
    "\n",
    "These tools cover a wide range of functionalities and are commonly used in various stages of the data science workflow.\n",
    "\n"
   ]
  },
  {
   "cell_type": "markdown",
   "id": "9215fbff",
   "metadata": {},
   "source": [
    "# Arithmetic Expressions Examples\n",
    "\n",
    "Arithmetic expressions involve mathematical operations and are fundamental in programming and data science for numerical computations. Let's explore some examples using common arithmetic operators:\n",
    "\n",
    "```python\n",
    "# Addition\n",
    "result_addition = 5 + 3\n",
    "print(result_addition)  # Output: 8\n",
    "\n",
    "# Subtraction\n",
    "result_subtraction = 10 - 4\n",
    "print(result_subtraction)  # Output: 6\n",
    "\n",
    "# Multiplication\n",
    "result_multiplication = 7 * 2\n",
    "print(result_multiplication)  # Output: 14\n",
    "\n",
    "# Division\n",
    "result_division = 15 / 3\n",
    "print(result_division)  # Output: 5.0 (Note: In Python 3, division always returns a float)\n",
    "\n",
    "# Floor Division\n",
    "result_floor_division = 15 // 3\n",
    "print(result_floor_division)  # Output: 5 (Floor division discards the fractional part)\n",
    "\n",
    "# Modulo (Remainder)\n",
    "result_modulo = 17 % 5\n",
    "print(result_modulo)  # Output: 2 (Remainder when 17 is divided by 5)\n",
    "\n",
    "# Exponentiation\n",
    "result_exponentiation = 2 ** 3\n",
    "print(result_exponentiation)  # Output: 8 (2 raised to the power of 3)\n",
    "\n"
   ]
  },
  {
   "cell_type": "code",
   "execution_count": 3,
   "id": "b3da53e9",
   "metadata": {},
   "outputs": [
    {
     "name": "stdout",
     "output_type": "stream",
     "text": [
      "Multiplication result: 50\n",
      "Addition result: 15\n"
     ]
    }
   ],
   "source": [
    "# Define two numbers\n",
    "number1 = 10\n",
    "number2 = 5\n",
    "\n",
    "# Multiply the numbers\n",
    "result_multiplication = number1 * number2\n",
    "print(f\"Multiplication result: {result_multiplication}\")\n",
    "\n",
    "# Add the numbers\n",
    "result_addition = number1 + number2\n",
    "print(f\"Addition result: {result_addition}\")\n"
   ]
  },
  {
   "cell_type": "code",
   "execution_count": 4,
   "id": "c5b8ec5b",
   "metadata": {},
   "outputs": [
    {
     "name": "stdout",
     "output_type": "stream",
     "text": [
      "120 minutes is equal to 2.0 hours.\n"
     ]
    }
   ],
   "source": [
    "# Define the number of minutes\n",
    "minutes = 120\n",
    "\n",
    "# Convert minutes to hours\n",
    "hours = minutes / 60\n",
    "\n",
    "# Print the result\n",
    "print(f\"{minutes} minutes is equal to {hours} hours.\")\n"
   ]
  },
  {
   "cell_type": "markdown",
   "id": "540366d6",
   "metadata": {},
   "source": [
    "# Objectives\n",
    "\n",
    "In this learning module, we aim to achieve the following objectives:\n",
    "\n",
    "1. **Understanding Basic Arithmetic Operations:**\n",
    "   - Learn and practice fundamental arithmetic operations, including addition, subtraction, multiplication, division, floor division, modulo, and exponentiation.\n",
    "\n",
    "2. **Applying Arithmetic Operations in Python:**\n",
    "   - Gain hands-on experience with applying arithmetic operations in Python programming language.\n",
    "   - Explore how Python handles different types of arithmetic calculations.\n",
    "\n",
    "3. **Introduction to Data Science Tools:**\n",
    "   - Familiarize yourself with popular data science programming languages such as Python, R, and Julia.\n",
    "   - Explore key libraries and tools used in data manipulation, visualization, and machine learning.\n",
    "\n",
    "4. **Hands-on Coding Exercises:**\n",
    "   - Engage in coding exercises to reinforce your understanding of arithmetic operations and data science tools.\n",
    "   - Apply learned concepts through practical examples and exercises.\n",
    "\n",
    "5. **Applying Arithmetic in Data Science Scenarios:**\n",
    "   - Understand how arithmetic operations play a crucial role in data science applications.\n",
    "   - Learn to use arithmetic calculations for data manipulation and analysis.\n",
    "\n",
    "6. **Introduction to Jupyter Notebooks:**\n",
    "   - Gain familiarity with Jupyter Notebooks, a popular interactive computing environment for data science.\n",
    "   - Understand the structure of Jupyter Notebooks and how to execute code cells.\n",
    "\n",
    "7. **Practical Examples and Applications:**\n",
    "   - Explore real-world examples and applications where arithmetic operations and data science tools are employed.\n",
    "   - Apply your knowledge to solve practical problems in data science scenarios.\n",
    "\n",
    "These objectives aim to provide you with a solid foundation in basic arithmetic operations, programming languages for data science, and practical skills in using relevant tools for data manipulation and analysis.\n"
   ]
  },
  {
   "cell_type": "markdown",
   "id": "c382dab8",
   "metadata": {},
   "source": [
    "# Author\n",
    "\n",
    "This module was prepared by Matej Koval.\n"
   ]
  },
  {
   "cell_type": "code",
   "execution_count": null,
   "id": "cb064383",
   "metadata": {},
   "outputs": [],
   "source": []
  }
 ],
 "metadata": {
  "kernelspec": {
   "display_name": "Python 3 (ipykernel)",
   "language": "python",
   "name": "python3"
  },
  "language_info": {
   "codemirror_mode": {
    "name": "ipython",
    "version": 3
   },
   "file_extension": ".py",
   "mimetype": "text/x-python",
   "name": "python",
   "nbconvert_exporter": "python",
   "pygments_lexer": "ipython3",
   "version": "3.11.4"
  }
 },
 "nbformat": 4,
 "nbformat_minor": 5
}
